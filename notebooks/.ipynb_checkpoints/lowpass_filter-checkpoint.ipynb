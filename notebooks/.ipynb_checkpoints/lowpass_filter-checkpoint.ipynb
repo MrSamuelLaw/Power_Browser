{
 "cells": [
  {
   "cell_type": "markdown",
   "metadata": {},
   "source": [
    "# TITLE: Low Pass Filter Design\n",
    "## AUTHOR: Samuel Law"
   ]
  },
  {
   "cell_type": "markdown",
   "metadata": {},
   "source": [
    "<pre>\n",
    "The important assumptions are:\n",
    "- That the wheel and cylindar operate under a no slip condition. \n",
    "- That the rise time of the sensor can be neglected.\n",
    "- That the max speed for which power estimations are desired is 35 mph.\n",
    "</pre>"
   ]
  },
  {
   "cell_type": "code",
   "execution_count": 2,
   "metadata": {},
   "outputs": [],
   "source": [
    "%reset -f"
   ]
  },
  {
   "cell_type": "code",
   "execution_count": 3,
   "metadata": {},
   "outputs": [],
   "source": [
    "import math as m"
   ]
  },
  {
   "cell_type": "code",
   "execution_count": 4,
   "metadata": {},
   "outputs": [
    {
     "data": {
      "text/plain": [
       "'cylinder_rps = 410.76 hz'"
      ]
     },
     "execution_count": 4,
     "metadata": {},
     "output_type": "execute_result"
    }
   ],
   "source": [
    "# input known values\n",
    "wheel_diameter = 2100e-3     # m\n",
    "cylinder_diameter = 76.2e-3  # m\n",
    "mps_max = 15.65              # m/s\n",
    "\n",
    "# calculate omega of wheel using v = wr \n",
    "wheel_rps = mps_max/(0.5*wheel_diameter)\n",
    "\n",
    "# calculate omega of cylinder using |w_cylinder| = gr*|w_wheel|\n",
    "cylinder_rps = wheel_rps * (wheel_diameter/cylinder_diameter)\n",
    "\n",
    "# print out the results\n",
    "f\"{cylinder_rps = :0.2f} hz\""
   ]
  },
  {
   "cell_type": "code",
   "execution_count": 13,
   "metadata": {},
   "outputs": [
    {
     "data": {
      "text/plain": [
       "'f_cutoff = 723.43 hz'"
      ]
     },
     "execution_count": 13,
     "metadata": {},
     "output_type": "execute_result"
    }
   ],
   "source": [
    "R = 100    # ohms\n",
    "C = 2.2e-6 # farads\n",
    "f_cutoff = 1/(2*m.pi*R*C)\n",
    "f\"{f_cutoff = :0.2f} hz\""
   ]
  }
 ],
 "metadata": {
  "kernelspec": {
   "display_name": "Python 3",
   "language": "python",
   "name": "python3"
  },
  "language_info": {
   "codemirror_mode": {
    "name": "ipython",
    "version": 3
   },
   "file_extension": ".py",
   "mimetype": "text/x-python",
   "name": "python",
   "nbconvert_exporter": "python",
   "pygments_lexer": "ipython3",
   "version": "3.8.2"
  }
 },
 "nbformat": 4,
 "nbformat_minor": 4
}
