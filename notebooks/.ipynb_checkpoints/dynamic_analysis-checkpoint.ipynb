{
 "cells": [
  {
   "cell_type": "markdown",
   "metadata": {},
   "source": [
    "# TITLE: Dynamics Analysis & Calibration\n",
    "# AUTHOR: Samuel Law"
   ]
  },
  {
   "cell_type": "code",
   "execution_count": 1,
   "metadata": {},
   "outputs": [],
   "source": [
    "%reset -f"
   ]
  },
  {
   "cell_type": "code",
   "execution_count": 2,
   "metadata": {},
   "outputs": [],
   "source": [
    "import sympy as sm\n",
    "import numpy as np\n",
    "import sympy.physics.mechanics as me\n",
    "import matplotlib.pyplot as plt\n",
    "from scipy.integrate import RK45"
   ]
  },
  {
   "cell_type": "code",
   "execution_count": 3,
   "metadata": {},
   "outputs": [],
   "source": [
    "# set up the N frame\n",
    "N = me.ReferenceFrame(\"N\")\n",
    "pN = me.Point(\"pN\")\n",
    "pN.set_vel(N, 0)"
   ]
  },
  {
   "cell_type": "code",
   "execution_count": 4,
   "metadata": {},
   "outputs": [],
   "source": [
    "# declare constants\n",
    "r0, r1, L = sm.symbols(\"r0, r1, L\")"
   ]
  },
  {
   "cell_type": "code",
   "execution_count": 5,
   "metadata": {},
   "outputs": [],
   "source": [
    "# declare independent variables\n",
    "q1, u1 = me.dynamicsymbols(\"q1, u1\")\n",
    "q1d, u1d = me.dynamicsymbols(\"q1, u1\", 1)"
   ]
  },
  {
   "cell_type": "code",
   "execution_count": 6,
   "metadata": {},
   "outputs": [],
   "source": [
    "# declare dependent variables\n",
    "q0 = -q1*r1/r0\n",
    "q0d = -q1d*r1/r0\n",
    "u0 = -u1*r1/r0"
   ]
  },
  {
   "cell_type": "code",
   "execution_count": 7,
   "metadata": {},
   "outputs": [],
   "source": [
    "# declare bodies\n",
    "bodyA = me.Body(\n",
    "    name = \"wheel\",\n",
    "    frame = N.orientnew(\"A\", \"axis\", (q0, N.z))\n",
    ")\n",
    "bodyB = me.Body(\n",
    "    name = \"cylindar\",\n",
    "    frame = N.orientnew(\"A\", \"axis\", (q1, N.z))\n",
    ")"
   ]
  },
  {
   "cell_type": "code",
   "execution_count": 8,
   "metadata": {},
   "outputs": [],
   "source": [
    "# define mass centers\n",
    "bodyA.masscenter = pN.locatenew(\"pA\", 0*N.x)\n",
    "bodyB.masscenter = pN.locatenew(\"pB\", -L*N.x)"
   ]
  },
  {
   "cell_type": "code",
   "execution_count": 9,
   "metadata": {},
   "outputs": [],
   "source": [
    "# define linear velocities\n",
    "bodyA.masscenter.set_vel(N, bodyA.masscenter.pos_from(pN).dt(N))\n",
    "bodyB.masscenter.set_vel(N, bodyB.masscenter.pos_from(pN).dt(N))"
   ]
  },
  {
   "cell_type": "code",
   "execution_count": 10,
   "metadata": {},
   "outputs": [],
   "source": [
    "# create the KanesMethod object\n",
    "KDE = [(q1d - u1)]\n",
    "KM = me.KanesMethod(N, [q1], [u1], KDE)"
   ]
  },
  {
   "cell_type": "code",
   "execution_count": 11,
   "metadata": {},
   "outputs": [],
   "source": [
    "# calculate Fr and Fr_star\n",
    "Td, Tf = sm.symbols(\"Tau_d, Tau_f\")\n",
    "loads = [\n",
    "    (bodyA.frame, Td*bodyA.frame.z),\n",
    "    (bodyB.frame, Tf*bodyB.frame.z),\n",
    "]\n",
    "bodies = [bodyA, bodyB]\n",
    "Fr, Fr_star =  KM.kanes_equations(bodies, loads)"
   ]
  },
  {
   "cell_type": "code",
   "execution_count": 12,
   "metadata": {},
   "outputs": [
    {
     "data": {
      "text/latex": [
       "$\\displaystyle \\left[\\begin{matrix}- \\frac{T_{d} r_{1}}{r_{0}} + T_{f}\\end{matrix}\\right]$"
      ],
      "text/plain": [
       "Matrix([[-Tau_d*r1/r0 + Tau_f]])"
      ]
     },
     "execution_count": 12,
     "metadata": {},
     "output_type": "execute_result"
    }
   ],
   "source": [
    "# print Fr\n",
    "Fr"
   ]
  },
  {
   "cell_type": "code",
   "execution_count": 13,
   "metadata": {},
   "outputs": [
    {
     "data": {
      "text/latex": [
       "$\\displaystyle \\left[\\begin{matrix}- \\left(cylindar_{izz} + \\frac{r_{1}^{2} wheel_{izz}}{r_{0}^{2}}\\right) \\frac{d}{d t} \\operatorname{u_{1}}{\\left(t \\right)}\\end{matrix}\\right]$"
      ],
      "text/plain": [
       "Matrix([[-(cylindar_izz + r1**2*wheel_izz/r0**2)*Derivative(u1(t), t)]])"
      ]
     },
     "execution_count": 13,
     "metadata": {},
     "output_type": "execute_result"
    }
   ],
   "source": [
    "# print Fr_star\n",
    "Fr_star"
   ]
  },
  {
   "cell_type": "code",
   "execution_count": 14,
   "metadata": {},
   "outputs": [],
   "source": [
    "# collect the mass and forcing matrix\n",
    "MM = KM.mass_matrix\n",
    "FM = KM.forcing"
   ]
  },
  {
   "cell_type": "code",
   "execution_count": 24,
   "metadata": {},
   "outputs": [
    {
     "data": {
      "image/png": "[encoded data removed]",
      "text/plain": [
       "<Figure size 432x288 with 1 Axes>"
      ]
     },
     "metadata": {
      "needs_background": "light"
     },
     "output_type": "display_data"
    }
   ],
   "source": [
    "# x1 = q1,    x1d = q1d\n",
    "# x2 = q1d,   x2d = q1dd\n",
    "\n",
    "# assign random values and run simulation\n",
    "MM = 1.5  # kg*m^2         # mass term\n",
    "b = 1     # Nm*s/(kg*m^2)  # damping term\n",
    "\n",
    "def model(t, x):\n",
    "    # unpack the vector\n",
    "    q1, q1d = x\n",
    "    \n",
    "    # collect globals\n",
    "    global MM, b\n",
    "    \n",
    "    # calculate Tf\n",
    "    Tf = b*q1d if q1d > 0 else 0\n",
    "    \n",
    "    # calculate q1dd\n",
    "    q1dd = -Tf/MM\n",
    "    \n",
    "    # return the xdots\n",
    "    x1d = q1d\n",
    "    x2d = q1dd\n",
    "    return (x1d, x2d)\n",
    "    \n",
    "simulator = RK45(model, 0, [0, 100], 7.5, max_step=0.1)\n",
    "results = np.array([0, 0, 0])\n",
    "while True:\n",
    "    try:\n",
    "        simulator.step()\n",
    "    except:\n",
    "        break;\n",
    "    else:\n",
    "        results = np.vstack([results, (simulator.t, *simulator.y)])\n",
    "results = results[1:]\n",
    "\n",
    "# plot the results\n",
    "plt.plot(results[:,0], results[:, 2])\n",
    "plt.ylabel(\"ang-vel [rad/s]\")\n",
    "plt.xlabel(\"time [s]\")\n",
    "plt.title(\"transient response\")\n",
    "plt.grid();"
   ]
  },
  {
   "cell_type": "markdown",
   "metadata": {},
   "source": [
    "# Solution\n",
    "<pre>\n",
    "To solve for M, using the rise time, was impossible assuming that the system was second order. The system \n",
    "was second order with respect to the orientation, q, however with respect to the angular velocity, qdot, \n",
    "the system was first order. Thus differential equations must be considered with respect to the signal. This\n",
    "lesson is critically important, and one I am glad to have learned. The final solution is shown below.\n",
    "</pre>"
   ]
  },
  {
   "cell_type": "code",
   "execution_count": 16,
   "metadata": {},
   "outputs": [
    {
     "data": {
      "text/latex": [
       "$\\displaystyle M Qdd - Qd b + \\frac{T_{d} r_{1}}{r_{0}}$"
      ],
      "text/plain": [
       "M*Qdd - Qd*b + Tau_d*r1/r0"
      ]
     },
     "execution_count": 16,
     "metadata": {},
     "output_type": "execute_result"
    }
   ],
   "source": [
    "Q, Qd, Qdd, M, b, r1, r0, Tau_d = sm.symbols(\"Q, Qd, Qdd, M, b, r1, r0, Tau_d\")\n",
    "zero = M*Qdd - b*Qd +r1*Tau_d/r0\n",
    "zero"
   ]
  },
  {
   "cell_type": "markdown",
   "metadata": {},
   "source": [
    "<pre>\n",
    "which yields the following block digram which assumes the output of interest is rad, not rad/s\n",
    "\n",
    "Tau(s) -> [-gr/[s^2*MQdd - MQd(0-) - s*b]] -> Q(s)\n",
    "</pre>"
   ]
  },
  {
   "cell_type": "markdown",
   "metadata": {},
   "source": [
    "<pre>\n",
    "The above equation is correct with respect to the orientation, which is Q\n",
    "however my signal is the angular velocity, Qd not Q. So I can modify my block \n",
    "diagram, and thus my transfer function to look like the following. \n",
    "</pre>"
   ]
  },
  {
   "cell_type": "code",
   "execution_count": 17,
   "metadata": {},
   "outputs": [
    {
     "data": {
      "text/latex": [
       "$\\displaystyle M Qd - Q b + \\frac{T_{d} r_{1}}{r_{0}}$"
      ],
      "text/plain": [
       "M*Qd - Q*b + Tau_d*r1/r0"
      ]
     },
     "execution_count": 17,
     "metadata": {},
     "output_type": "execute_result"
    }
   ],
   "source": [
    "zero = M*Qd - b*Q +r1*Tau_d/r0\n",
    "zero"
   ]
  },
  {
   "cell_type": "markdown",
   "metadata": {},
   "source": [
    "<pre>\n",
    "The above equation is correct with respect to the velocity, which is Q not instead of Qd.\n",
    "My signal is the angular velocity, Q. So I can modify my block diagram, and thus \n",
    "my transfer function to look like the following. \n",
    "</pre>"
   ]
  },
  {
   "cell_type": "markdown",
   "metadata": {},
   "source": [
    "<pre>\n",
    "Tau(s) -> [-gr/[Ms - b]] -> Q(s)\n",
    "</pre>"
   ]
  },
  {
   "cell_type": "markdown",
   "metadata": {},
   "source": [
    "<pre>\n",
    "setting b = 1 allows us to solve for the time constant which is simply equal to M. \n",
    "The rise time is equal to 5M. Try it out for yourself on the RK45 simulation above. \n",
    "The rise time will always = 5M if you set b to 1.\n",
    "</pre>"
   ]
  },
  {
   "cell_type": "code",
   "execution_count": null,
   "metadata": {},
   "outputs": [],
   "source": [
    "Next, a DC gain must be used to accurately calculate "
   ]
  }
 ],
 "metadata": {
  "kernelspec": {
   "display_name": "Python 3",
   "language": "python",
   "name": "python3"
  },
  "language_info": {
   "codemirror_mode": {
    "name": "ipython",
    "version": 3
   },
   "file_extension": ".py",
   "mimetype": "text/x-python",
   "name": "python",
   "nbconvert_exporter": "python",
   "pygments_lexer": "ipython3",
   "version": "3.8.2"
  }
 },
 "nbformat": 4,
 "nbformat_minor": 4
}
