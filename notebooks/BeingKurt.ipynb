{
 "cells": [
  {
   "cell_type": "markdown",
   "metadata": {},
   "source": [
    "# TITLE: Kurt Kinetic Equation Application\n",
    "# AUTHOR: Samuel Law"
   ]
  },
  {
   "cell_type": "code",
   "execution_count": 1,
   "metadata": {},
   "outputs": [],
   "source": [
    "%reset -f"
   ]
  },
  {
   "cell_type": "code",
   "execution_count": 2,
   "metadata": {},
   "outputs": [],
   "source": [
    "import sympy as sm\n",
    "import numpy as np\n",
    "import matplotlib.pyplot as plt"
   ]
  },
  {
   "cell_type": "code",
   "execution_count": 3,
   "metadata": {},
   "outputs": [
    {
     "data": {
      "text/latex": [
       "$\\displaystyle \\frac{\\pi d}{t}$"
      ],
      "text/plain": [
       "pi*d/t"
      ]
     },
     "execution_count": 3,
     "metadata": {},
     "output_type": "execute_result"
    }
   ],
   "source": [
    "# create expression for velocity\n",
    "d, t, s = sm.symbols(\"d, t, s\")\n",
    "r = d/2        # cylinder radius in km\n",
    "w = sm.pi*2/t  # cylinder rad/micros\n",
    "v = w*r        # cylinder km/micros\n",
    "v"
   ]
  },
  {
   "cell_type": "code",
   "execution_count": 4,
   "metadata": {},
   "outputs": [
    {
     "data": {
      "text/latex": [
       "$\\displaystyle \\frac{121241.90952 \\pi}{t}$"
      ],
      "text/plain": [
       "121241.90952*pi/t"
      ]
     },
     "execution_count": 4,
     "metadata": {},
     "output_type": "execute_result"
    }
   ],
   "source": [
    "# create an expression for mph\n",
    "vals = {d: 054.2e-6  } # km\n",
    "kmm = v.subs(vals)     # km/micros\n",
    "kms = kmm*1e6          # km/s\n",
    "kmh = kms*3600         # km/h\n",
    "mph = kmh*0.621371     # mi/h\n",
    "mph"
   ]
  },
  {
   "cell_type": "code",
   "execution_count": 5,
   "metadata": {},
   "outputs": [
    {
     "data": {
      "text/plain": [
       "0.38089269225523037"
      ]
     },
     "execution_count": 5,
     "metadata": {},
     "output_type": "execute_result"
    }
   ],
   "source": [
    "# create a function to calculate mph from micros\n",
    "mph_func = sm.lambdify([t], mph, modules=\"numpy\")\n",
    "mph_func(1_000_000)"
   ]
  },
  {
   "cell_type": "code",
   "execution_count": 6,
   "metadata": {},
   "outputs": [
    {
     "data": {
      "text/plain": [
       "1.9987728266565907"
      ]
     },
     "execution_count": 6,
     "metadata": {},
     "output_type": "execute_result"
    }
   ],
   "source": [
    "# create a function to calcualte power from mph\n",
    "power = (5.244820*mph) + (0.019168*mph*mph*mph)\n",
    "power_func = sm.lambdify([t], power, modules=\"numpy\")\n",
    "power_func(1_000_000)"
   ]
  },
  {
   "cell_type": "code",
   "execution_count": 7,
   "metadata": {},
   "outputs": [
    {
     "data": {
      "image/png": "[encoded data removed]",
      "text/plain": [
       "<Figure size 432x288 with 1 Axes>"
      ]
     },
     "metadata": {
      "needs_background": "light"
     },
     "output_type": "display_data"
    }
   ],
   "source": [
    "# plot the results using a test dataset\n",
    "micros = np.linspace(2.5e4, 1e6, 1000)\n",
    "speeds = [mph_func(m) for m in micros]\n",
    "powers = [power_func(m) for m in micros]\n",
    "plt.plot(speeds, powers)\n",
    "plt.grid();"
   ]
  },
  {
   "cell_type": "code",
   "execution_count": 8,
   "metadata": {},
   "outputs": [
    {
     "name": "stdout",
     "output_type": "stream",
     "text": [
      "mph = 121241.90952*Math.PI/t\n",
      "watts = 635891.991888686*Math.PI/t + 34161356213001.9*Math.pow(Math.PI, 3)/Math.pow(t, 3)\n"
     ]
    }
   ],
   "source": [
    "# create the javascript code\n",
    "from sympy.printing.jscode import jscode\n",
    "print(f'mph = {jscode(mph)}')\n",
    "print(f'watts = {jscode(power)}')"
   ]
  },
  {
   "cell_type": "markdown",
   "metadata": {},
   "source": [
    "# Sources\n",
    "https://www.kurtkinetic.com/kinetic-power-tech"
   ]
  }
 ],
 "metadata": {
  "kernelspec": {
   "display_name": "Python 3",
   "language": "python",
   "name": "python3"
  },
  "language_info": {
   "codemirror_mode": {
    "name": "ipython",
    "version": 3
   },
   "file_extension": ".py",
   "mimetype": "text/x-python",
   "name": "python",
   "nbconvert_exporter": "python",
   "pygments_lexer": "ipython3",
   "version": "3.8.2"
  }
 },
 "nbformat": 4,
 "nbformat_minor": 4
}
